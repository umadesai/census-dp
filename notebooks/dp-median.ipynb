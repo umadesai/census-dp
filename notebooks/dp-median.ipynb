{
 "cells": [
  {
   "cell_type": "markdown",
   "metadata": {},
   "source": [
    "### Generating a differentially private median age of a population\n",
    "\n",
    "To generate a differentially private median age of a population, we first:\n",
    "1. find the median value\n",
    "2. add laplace noise with global sensitivity value of the max age divided by two\n",
    "\n",
    "#### Data Processing\n",
    "Let's start by importing the necessary libraries and loading the PUMS data."
   ]
  },
  {
   "cell_type": "code",
   "execution_count": 1,
   "metadata": {
    "collapsed": true
   },
   "outputs": [],
   "source": [
    "import matplotlib.pyplot as plt\n",
    "import pandas as pd\n",
    "import numpy as np\n",
    "\n",
    "pa = pd.read_csv(\"psam_p42.csv\")"
   ]
  },
  {
   "cell_type": "markdown",
   "metadata": {},
   "source": [
    "Next, let's query the population we want to calculate the median age of."
   ]
  },
  {
   "cell_type": "code",
   "execution_count": 2,
   "metadata": {
    "collapsed": true
   },
   "outputs": [],
   "source": [
    "asn_pa = pa.query('RACASN==1 and PUMA==1000')"
   ]
  },
  {
   "cell_type": "markdown",
   "metadata": {},
   "source": [
    "Now, let's calculate the median age."
   ]
  },
  {
   "cell_type": "code",
   "execution_count": 3,
   "metadata": {
    "collapsed": true
   },
   "outputs": [],
   "source": [
    "true_median = asn_pa.AGEP.median()"
   ]
  },
  {
   "cell_type": "markdown",
   "metadata": {},
   "source": [
    "#### Sensitivity Calculations\n",
    "\n",
    "Below is our implementation of the Laplace Mechanism. We want to use it to inject Laplacian-distributed noise to our median age. To do this, we need to first calculate the global sensitivity value. The global sensitivity of a median is caluculated by dividing the maximum allowable age by two. Ages in the 2020 Census will be topcoded at 114."
   ]
  },
  {
   "cell_type": "code",
   "execution_count": 4,
   "metadata": {
    "collapsed": true
   },
   "outputs": [],
   "source": [
    "age_sensitivity = 114/2"
   ]
  },
  {
   "cell_type": "code",
   "execution_count": 5,
   "metadata": {
    "collapsed": true
   },
   "outputs": [],
   "source": [
    "def laplace_mech(mu, epsilon, sensitivity=1.0):\n",
    "    \"\"\"Implementation of the Laplace Mechanism that adds Laplacian-distributed noise to a function.\n",
    "  　\n",
    "    Args:\n",
    "      mu (float or numpy array): the true answer\n",
    "      epsilon(int): the privacy budget\n",
    "      sensitivity (float): the global sensitivity of the query\n",
    "    \"\"\"\n",
    "    eps = epsilon/float(sensitivity)\n",
    "    scale = 1/eps\n",
    "    np_shape = np.shape(mu)\n",
    "    shape = None if np_shape == () else np_shape\n",
    "    z = np.random.laplace(0.0, scale=scale, size=shape)\n",
    "    return mu + z"
   ]
  },
  {
   "cell_type": "markdown",
   "metadata": {},
   "source": [
    "We can now use `age_sensitivity` and `laplace_mech()` to calculate the `noisy_median`.\n",
    "\n",
    "#### The Privacy-Accuracy Tradeoff\n",
    "\n",
    "There is an inherent trade-oﬀ between privacy and data utility/accuracy discussed by many economists and statisticians. Broadly, the more information that is released (accurately), the better the data utility. However, this increases the risk of an attacker violating a person’s privacy. \n",
    "\n",
    "We want to do this for different values of epsilon, and be able to calculate the average accuracy of the `noisy_median` for each of these epsilons, so that we can compare the accuracy-privacy trade off. The function below does this using L1 norm as the accuracy measure."
   ]
  },
  {
   "cell_type": "code",
   "execution_count": 14,
   "metadata": {
    "collapsed": true
   },
   "outputs": [],
   "source": [
    "def avg_l1_median(true_median, eps, n=1000):\n",
    "    total = 0\n",
    "    for i in range(n):\n",
    "        noisy_median = laplace_mech(true_median, eps, age_sensitivity)\n",
    "        accuracy = 1 - (np.linalg.norm([noisy_median-true_median], 1)/(2*30))\n",
    "        total += accuracy\n",
    "    return total/n"
   ]
  },
  {
   "cell_type": "markdown",
   "metadata": {},
   "source": [
    "Let's use `avg_l1_median()` to calculate the average accuracy of the noisy median over a range of epsilon values. Then let's visualize the output in an ROC curve that helps us undestand the privacy-accuracy tradeoff."
   ]
  },
  {
   "cell_type": "code",
   "execution_count": 15,
   "metadata": {},
   "outputs": [
    {
     "data": {
      "image/png": "[encoded data removed]",
      "text/plain": [
       "<matplotlib.figure.Figure at 0x1e215f109e8>"
      ]
     },
     "metadata": {},
     "output_type": "display_data"
    }
   ],
   "source": [
    "accuracy_df = pd.DataFrame()\n",
    "eps_range = (np.arange(1.0,9.0,.1))\n",
    "accuracy_df['episolon'] = eps_range\n",
    "accuracy_df['accuracy'] = [avg_l1_median(true_median, x) for x in eps_range]\n",
    "accuracy_df.plot.scatter('episolon', 'accuracy')\n",
    "plt.show()"
   ]
  },
  {
   "cell_type": "markdown",
   "metadata": {},
   "source": [
    "### Optional: Smooth Sensitivity of the Median\n",
    "\n",
    "Noise magnitude, determined not only by the function we want to release, but also by the database itself, should not leak information about the database. To address that, we can calibrate the noise magnitude to the [smooth sensitivity](http://www.cse.psu.edu/~ads22/pubs/NRS07/NRS07-full-draft-v1.pdf) of *f* on the database *x* - a measure of the variability of *f* in the neighborhood of the instance *x*. This framework greatly expands the applicability of output perturbation, a technique for protecting individuals' privacy by adding a small amount of random noise to the released statistics. To apply the framework, one must compute or approximate the smooth sensitivity of *f* on *x*. \n",
    "\n",
    "<img src=\"out/ss_median.PNG\">\n",
    "\n",
    "It can be computed in time *O(n *log* n)* with the following algorithm.\n"
   ]
  },
  {
   "cell_type": "code",
   "execution_count": 8,
   "metadata": {
    "collapsed": true
   },
   "outputs": [],
   "source": [
    "import math\n",
    "\n",
    "def j_list(a, c, L, U):\n",
    "    \"\"\"\n",
    "    TODO: \n",
    "    Returns the list j*(a),...,j*(c) assuming that L<=j*(a) and j*(c)<=U\n",
    "    \"\"\"\n",
    "    if c < a:\n",
    "        return []\n",
    "    else:\n",
    "        b = math.floor(a+c)/2\n",
    "        arg_max = 0\n",
    "        for i in range(L, U+1):\n",
    "            val = (x_j - x_b)*(e^(j-b+1))\n",
    "            if val > argmax:\n",
    "                argmax = val\n",
    "        return j_list(a, b-1, L, j*(b))+j_list(b+1, c, j*(b), U)"
   ]
  },
  {
   "cell_type": "code",
   "execution_count": 9,
   "metadata": {
    "collapsed": true
   },
   "outputs": [],
   "source": [
    "# n = 1\n",
    "# j_list(1, n, 1, n)"
   ]
  }
 ],
 "metadata": {
  "kernelspec": {
   "display_name": "Python 3",
   "language": "python",
   "name": "python3"
  },
  "language_info": {
   "codemirror_mode": {
    "name": "ipython",
    "version": 3
   },
   "file_extension": ".py",
   "mimetype": "text/x-python",
   "name": "python",
   "nbconvert_exporter": "python",
   "pygments_lexer": "ipython3",
   "version": "3.6.3"
  }
 },
 "nbformat": 4,
 "nbformat_minor": 2
}
