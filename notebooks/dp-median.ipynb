{
 "cells": [
  {
   "cell_type": "markdown",
   "metadata": {},
   "source": [
    "### Solving for a differentially private median age of a population"
   ]
  },
  {
   "cell_type": "code",
   "execution_count": 1,
   "metadata": {},
   "outputs": [],
   "source": [
    "import matplotlib.pyplot as plt\n",
    "import pandas as pd\n",
    "import numpy as np"
   ]
  },
  {
   "cell_type": "code",
   "execution_count": 2,
   "metadata": {},
   "outputs": [],
   "source": [
    "pa = pd.read_csv(\"psam_p42.csv\")"
   ]
  },
  {
   "cell_type": "code",
   "execution_count": 3,
   "metadata": {},
   "outputs": [],
   "source": [
    "\"\"\"\n",
    "Solving for a differentially private median age of a population.\n",
    "1. find the median value\n",
    "2. add laplace noise with sensitivity value of max_age/2\n",
    "\"\"\"\n",
    "asn_pa = pa.query('RACASN==1 and PUMA==1000')\n",
    "true_median = asn_pa.AGEP.median()\n",
    "age_sensitivity = asn_pa.AGEP.max()/2"
   ]
  },
  {
   "cell_type": "code",
   "execution_count": 4,
   "metadata": {},
   "outputs": [],
   "source": [
    "def laplace_mech(mu, epsilon, sensitivity=1.0):\n",
    "    \"\"\"Implementation of the Laplace Mechanism that adds Laplacian-distributed noise to a function.\n",
    "  　\n",
    "    Args:\n",
    "      mu (float or numpy array): the true answer\n",
    "      epsilon(int): the privacy budget\n",
    "      sensitivity (float): the global sensitivity of the query\n",
    "    \"\"\"\n",
    "    eps = epsilon/float(sensitivity)\n",
    "    scale = 1/eps\n",
    "    np_shape = np.shape(mu)\n",
    "    shape = None if np_shape == () else np_shape\n",
    "    z = np.random.laplace(0.0, scale=scale, size=shape)\n",
    "    return mu + z"
   ]
  },
  {
   "cell_type": "code",
   "execution_count": 5,
   "metadata": {},
   "outputs": [],
   "source": [
    "def avg_l1_median(true_median, eps, n=1000):\n",
    "    total = 0\n",
    "    for i in range(n):\n",
    "        noisy_median = laplace_mech(true_median, eps, age_sensitivity)\n",
    "        accuracy = 1 - (np.linalg.norm([noisy_median-true_median], 1)/(2*1))\n",
    "        total += accuracy\n",
    "    return total/n"
   ]
  },
  {
   "cell_type": "code",
   "execution_count": 6,
   "metadata": {},
   "outputs": [
    {
     "data": {
      "image/png": "[encoded data removed]",
      "text/plain": [
       "<matplotlib.figure.Figure at 0x7fa9ce1c4940>"
      ]
     },
     "metadata": {
      "needs_background": "light"
     },
     "output_type": "display_data"
    }
   ],
   "source": [
    "accuracy_df = pd.DataFrame()\n",
    "eps_range = (np.arange(1.0,9.0,.5))\n",
    "accuracy_df['episolon'] = eps_range\n",
    "accuracy_df['accuracy'] = [avg_l1_median(true_median, x) for x in eps_range]\n",
    "accuracy_df.plot.scatter('episolon', 'accuracy')\n",
    "plt.show()"
   ]
  }
 ],
 "metadata": {
  "kernelspec": {
   "display_name": "Python 3",
   "language": "python",
   "name": "python3"
  },
  "language_info": {
   "codemirror_mode": {
    "name": "ipython",
    "version": 3
   },
   "file_extension": ".py",
   "mimetype": "text/x-python",
   "name": "python",
   "nbconvert_exporter": "python",
   "pygments_lexer": "ipython3",
   "version": "3.6.8"
  }
 },
 "nbformat": 4,
 "nbformat_minor": 2
}
