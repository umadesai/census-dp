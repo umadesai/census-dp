{
 "cells": [
  {
   "cell_type": "markdown",
   "metadata": {},
   "source": [
    "Census is still in early stages of transitioning to differentially private practices for disclosure avoidance. The following are technical issues that will need more attention in the near future as differential privacy practices continue to develop at Census."
   ]
  },
  {
   "cell_type": "markdown",
   "metadata": {},
   "source": [
    "1. There are some subtle problems with mechanisms based on floating-point arithmetic. These include: \n",
    "\n",
    "    -  Global sensitivity can be much larger than expected due to accumulation of float-error near boundaries where the density of floats in the reals changes    \n",
    "    - Implementations of random distributions that depend on use of a numerical logarithm can exhibit increased actual epsilon versus claimed epsilon due to non-strictly-monotic behavior of float-valued numerical log. \n",
    "    - Some true databases can be entirely ruled out when the numerical natural log \"skips\" a float (i.e., when you have floats f1 < f2 with LN(f1) < f < LN(f2) for some third float f, so that there is no float in the domain of the numerical natural log that returns f). This is particularly pernicious, as it can be used (especially in interactive systems) to entirely undermine the privacy guarantee\n",
    "    - *The current best practive to avoid this issue is to use the geometric mechanism for integer-valued queries.*\n",
    "    \n",
    "\n",
    "2. Algorithms should not be developed or refined based on trials run on the protected data. The final epsilon should also not be chosen based on trials run on the protected data. In particular, people should not run a bunch of trials of their DP method on sensitive data and pick an epsilon where the trade-off looks good. Instead, a DP version of this procedure should be used, such as NoisyMax, to noisily select the best point according to some trade-off rate between privacy and accuracy or error analysis should be conducted on a substitute, non-sensitive data set.\n",
    "\n",
    "\n",
    "3. If a global sensitivity-based mechanism is used, such as the Laplace or Geometric mechanism, then the sensitivity must be calculated using the appropriate notion of neighoboring databases. In particular, bounded and unbounded DP are the common basic variants, and even they behave very differently from one another. When more complex 'invariants' are desired, the proposal should be carefully reviewed by someone familiar with DP theory.\n",
    "\n",
    "\n",
    "4. Make sure any libraries used to generate random numbers use pseudo-random number generators that are cryptographically secure. This is not the case in the base versions of:\n",
    "    - R (defaults to MersenneTwister)\n",
    "    - SAS (defaults to a MersenneTwister hybrid)\n",
    "    - Python's numpy library (defaults to MersenneTwister)\n",
    "    \n",
    "    MersenneTwister is not cryptographically secure, and its use typically exposes practically exploitable, large vulnerabilities in noise-infusion DA mechanisms. Only a small amount of auxiliary knowledge is needed to exploit this vulnerability and remove all DA noise. In this repository, implementations using OpenSSL's prng are cryptographically secure, while ones using numpy's prng are not.\n",
    "\n",
    "\n",
    "5. The unit of privacy is very important. An algorithm that considers pairs of databases to be neighbors when they differ in a single person is very different from an algorithm that considers pairs of databases when they differ in a single company, or a single house, or a single attribute of a single record. Claims to have used a particular epsilon are meaningless in the absence of a review of the unit (or units, in more complex applications) of privacy."
   ]
  }
 ],
 "metadata": {
  "kernelspec": {
   "display_name": "Python 3",
   "language": "python",
   "name": "python3"
  },
  "language_info": {
   "codemirror_mode": {
    "name": "ipython",
    "version": 3
   },
   "file_extension": ".py",
   "mimetype": "text/x-python",
   "name": "python",
   "nbconvert_exporter": "python",
   "pygments_lexer": "ipython3",
   "version": "3.6.3"
  }
 },
 "nbformat": 4,
 "nbformat_minor": 2
}
