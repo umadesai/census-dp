{
 "cells": [
  {
   "cell_type": "code",
   "execution_count": 1,
   "metadata": {
    "collapsed": true
   },
   "outputs": [],
   "source": [
    "\"\"\" This module contains primitive operations used in differential privacy \"\"\"\n",
    "import numpy"
   ]
  },
  {
   "cell_type": "code",
   "execution_count": 2,
   "metadata": {
    "collapsed": true
   },
   "outputs": [],
   "source": [
    "def geometric_mechanism(true_answer, budget, sensitivity, prng):\n",
    "  \"\"\" Implementation of the Geometric Mechanism\n",
    "  　\n",
    "  Args:\n",
    "    true_answer (float or numpy array): the true answer\n",
    "    budget (float): the privacy budget to use\n",
    "    sensitivity (int): the sensitivity of the query\n",
    "    addition or deletion of one person from the database\n",
    "    must change the query answer vector by an integer amount\n",
    "    prng: a numpy random number generator\n",
    "  \"\"\"\n",
    "  shape = numpy.shape(true_answer)\n",
    "  epsilon = budget / float(sensitivity)\n",
    "  p = 1 - numpy.exp(-epsilon)\n",
    "  x = prng.geometric(p, size=shape) - 1 #numpy geometrics start with 1\n",
    "  y = prng.geometric(p, size=shape) - 1\n",
    "  return x-y + true_answer"
   ]
  },
  {
   "cell_type": "code",
   "execution_count": 3,
   "metadata": {
    "collapsed": true
   },
   "outputs": [],
   "source": [
    "def laplace_mechanism(x, budget, sensitivity):\n",
    "  \"\"\" Implementation of the Laplace Mechanism that adds Laplacian-distributed noise to a function.\n",
    "  　\n",
    "  Args:\n",
    "    x (float or numpy array): the true answer\n",
    "    budget (float): the privacy budget\n",
    "    sensitivity (int): the global sensitivity of the query\n",
    "  \"\"\"\n",
    "  epsilon = float(sensitivity) / budget\n",
    "  return numpy.random.laplace(loc=x, scale=epsilon)\n"
   ]
  },
  {
   "cell_type": "code",
   "execution_count": 4,
   "metadata": {
    "collapsed": true
   },
   "outputs": [],
   "source": [
    "def test_laplace():\n",
    "  total = 0\n",
    "  for i in range(1000):\n",
    "    total+=laplace_mechanism(x=0, budget=2, sensitivity=1)\n",
    "  print(total/1000.0)"
   ]
  },
  {
   "cell_type": "code",
   "execution_count": 5,
   "metadata": {},
   "outputs": [
    {
     "name": "stdout",
     "output_type": "stream",
     "text": [
      "-0.017037540369161906\n"
     ]
    }
   ],
   "source": [
    "# print(geometric_mechanism(0.9, 1.2, 1, numpy.random))\n",
    "# print(geometric_mechanism(0.9, 0.02, 1, numpy.random))\n",
    "# print(laplace_mechanism(x=1, budget=2, sensitivity=1))\n",
    "# print(laplace_mechanism(x=1, budget=0.002, sensitivity=1))\n",
    "# print(laplace_mechanism(x=1, budget=15, sensitivity=1))\n",
    "# print(laplace_mechanism(x=1, budget=2, sensitivity=100))\n",
    "# print(gaussian_mechanism(0.9, 1.2, 1))\n",
    "# print(gaussian_mechanism(0.9, 0.002, 1))\n",
    "test_laplace()"
   ]
  }
 ],
 "metadata": {
  "kernelspec": {
   "display_name": "Python 3",
   "language": "python",
   "name": "python3"
  },
  "language_info": {
   "codemirror_mode": {
    "name": "ipython",
    "version": 3
   },
   "file_extension": ".py",
   "mimetype": "text/x-python",
   "name": "python",
   "nbconvert_exporter": "python",
   "pygments_lexer": "ipython3",
   "version": "3.6.8"
  }
 },
 "nbformat": 4,
 "nbformat_minor": 2
}
