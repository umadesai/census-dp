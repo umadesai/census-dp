{
 "cells": [
  {
   "cell_type": "markdown",
   "metadata": {},
   "source": [
    "### Answering predicate counting queries under ϵ-differential privacy with the matrix mechanism"
   ]
  },
  {
   "cell_type": "markdown",
   "metadata": {},
   "source": [
    "<img style=\"float: left;\" src=\"out/ex_workload.PNG\">"
   ]
  },
  {
   "cell_type": "code",
   "execution_count": 1,
   "metadata": {
    "collapsed": true
   },
   "outputs": [],
   "source": [
    "import numpy as np\n",
    "import math"
   ]
  },
  {
   "cell_type": "markdown",
   "metadata": {},
   "source": [
    "First, build workload matrix for the CDF workload."
   ]
  },
  {
   "cell_type": "code",
   "execution_count": 2,
   "metadata": {},
   "outputs": [
    {
     "name": "stdout",
     "output_type": "stream",
     "text": [
      "[[ 1.  0.  0.  0.]\n",
      " [ 1.  1.  0.  0.]\n",
      " [ 1.  1.  1.  0.]\n",
      " [ 1.  1.  1.  1.]]\n"
     ]
    }
   ],
   "source": [
    "def cdf_workload(dom):\n",
    "  # workload matrix representing CDF queries\n",
    "  # dom: domain size\n",
    "  return np.tril(np.ones(dom))\n",
    "\n",
    "W = cdf_workload(4)\n",
    "print(W)"
   ]
  },
  {
   "cell_type": "markdown",
   "metadata": {},
   "source": [
    "Next, build a sample data vector."
   ]
  },
  {
   "cell_type": "code",
   "execution_count": 3,
   "metadata": {
    "collapsed": true
   },
   "outputs": [],
   "source": [
    "x = np.array([5,10,2,16])"
   ]
  },
  {
   "cell_type": "markdown",
   "metadata": {},
   "source": [
    "Then, evaluate queries in CDF workload on sample data."
   ]
  },
  {
   "cell_type": "code",
   "execution_count": 4,
   "metadata": {},
   "outputs": [
    {
     "data": {
      "text/plain": [
       "array([  5.,  15.,  17.,  33.])"
      ]
     },
     "execution_count": 4,
     "metadata": {},
     "output_type": "execute_result"
    }
   ],
   "source": [
    "W @ x   # @ is a matrix multiply"
   ]
  },
  {
   "cell_type": "markdown",
   "metadata": {},
   "source": [
    "### Privacy Method #1: Answering a workload with the Laplace Mechanism\n",
    "\n",
    "<img style=\"float: left;\" src=\"out/laplace_workload.PNG\">"
   ]
  },
  {
   "cell_type": "code",
   "execution_count": 5,
   "metadata": {},
   "outputs": [
    {
     "data": {
      "text/plain": [
       "array([  8.96969435,  18.96969435,  20.96969435,  36.96969435])"
      ]
     },
     "execution_count": 5,
     "metadata": {},
     "output_type": "execute_result"
    }
   ],
   "source": [
    "def L1_sensitivity(A):  \n",
    "\t\"\"\"Return the L1 sensitivity of strategy matrix A: maximum L1 norm of the columns.\"\"\"\n",
    "\treturn float(np.linalg.norm(A, 1))   \n",
    "\n",
    "def laplace_mechanism(W, x, epsilon=1.0):\n",
    "  # laplace mechanism on the input workload W\n",
    "  true_answer = W @ x\n",
    "  sens = L1_sensitivity(W)\n",
    "  noise = np.random.laplace(sens/epsilon)\n",
    "  return true_answer + noise\n",
    "\n",
    "laplace_mechanism(W, x)"
   ]
  },
  {
   "cell_type": "markdown",
   "metadata": {},
   "source": [
    "### Privacy Method #2: Matrix Mechanism\n",
    "\n",
    "<img style=\"float: left;\" src=\"out/mm.PNG\">"
   ]
  },
  {
   "cell_type": "markdown",
   "metadata": {},
   "source": [
    "#### Building strategy matrices\n",
    "Given workload W, find the query strategy A that minimizes the expected total square error"
   ]
  },
  {
   "cell_type": "code",
   "execution_count": 6,
   "metadata": {
    "collapsed": true
   },
   "outputs": [],
   "source": [
    "def identity_strategy(dom):\n",
    "  # Identity strategy (noisy frequency counts)\n",
    "\treturn np.eye(dom, dtype=int)\n",
    "\n",
    "def buildHierarchical(start, end, n, factors):\n",
    "\t\"\"\"Builds a hierarchical strategy matrix with branching\n",
    "\tfactor determined by the ordered list 'factoring'\n",
    "\tdomain size will be the product of the factors\n",
    "\t(for efficiency, we build list of lists, to be converted to matrix later)\"\"\"\n",
    "\n",
    "\tm = [ [0]*n ]\n",
    "\tm[0][start:end+1] = [1]*(end+1 - start) \n",
    "\tif len(factors) >= 1:\n",
    "\t\tb = factors.pop(0)\n",
    "\t\tinc = (end - start + 1) // b\n",
    "\telse:\n",
    "\t\treturn m\n",
    "\tfor i in range(start, end+1, inc):\n",
    "\t\tm = m + buildHierarchical(i, i+inc-1, n, factors[:] )  \n",
    "\treturn m\n",
    "\n",
    "def hier_strategy(dom):\n",
    "  # dom should be a power of 2\n",
    "  factors = [2]*(int(math.log(dom))+1)\n",
    "  return np.array(buildHierarchical(0,dom-1,dom,factors))"
   ]
  },
  {
   "cell_type": "code",
   "execution_count": 7,
   "metadata": {},
   "outputs": [
    {
     "data": {
      "text/plain": [
       "array([[1, 0, 0, 0],\n",
       "       [0, 1, 0, 0],\n",
       "       [0, 0, 1, 0],\n",
       "       [0, 0, 0, 1]])"
      ]
     },
     "execution_count": 7,
     "metadata": {},
     "output_type": "execute_result"
    }
   ],
   "source": [
    "identity_strategy(4)"
   ]
  },
  {
   "cell_type": "code",
   "execution_count": 8,
   "metadata": {},
   "outputs": [
    {
     "data": {
      "text/plain": [
       "array([[1, 1, 1, 1],\n",
       "       [1, 1, 0, 0],\n",
       "       [1, 0, 0, 0],\n",
       "       [0, 1, 0, 0],\n",
       "       [0, 0, 1, 1],\n",
       "       [0, 0, 1, 0],\n",
       "       [0, 0, 0, 1]])"
      ]
     },
     "execution_count": 8,
     "metadata": {},
     "output_type": "execute_result"
    }
   ],
   "source": [
    "hier_strategy(4)"
   ]
  },
  {
   "cell_type": "markdown",
   "metadata": {},
   "source": [
    "#### Error Analysis"
   ]
  },
  {
   "cell_type": "code",
   "execution_count": 9,
   "metadata": {
    "collapsed": true
   },
   "outputs": [],
   "source": [
    "def total_error(W, A, epsilon=1.0):\n",
    "  # Total squared error of workload queries in W, using strategy in A\n",
    "  # Matrix-mechanism error calculation\n",
    "  Aplus = np.linalg.pinv(A)\n",
    "  frob_term = np.linalg.norm(W @ Aplus, ord='fro')**2\n",
    "  sens = L1_sensitivity(A)\n",
    "  return 2 * (sens/epsilon)**2 * frob_term\n",
    "  \n",
    "def laplace_total_error(W, epsilon=1.0):\n",
    "    # total error of answering the workload using the Laplace mechanism\n",
    "    return 2.0 * (L1_sensitivity(W)/epsilon)**2 * W.shape[0]"
   ]
  },
  {
   "cell_type": "markdown",
   "metadata": {},
   "source": [
    "For various domain sizes, compare error on CDF workload using A=Identity and A=Hierarchical"
   ]
  },
  {
   "cell_type": "code",
   "execution_count": 10,
   "metadata": {},
   "outputs": [
    {
     "name": "stdout",
     "output_type": "stream",
     "text": [
      "dom   Identity \t Hier \t\t Laplace\n",
      "  4   20.000 \t   46.286 \t  128.000\n",
      "  8   72.000 \t  175.543 \t 1024.000\n",
      " 16  272.000 \t  303.543 \t 8192.000\n",
      " 32 1056.000 \t 1067.711 \t 65536.000\n",
      " 64 4160.000 \t 3439.838 \t 524288.000\n",
      "128 16512.000 \t 6686.614 \t 4194304.000\n",
      "256 65792.000 \t 20267.737 \t 33554432.000\n"
     ]
    }
   ],
   "source": [
    "print('dom   Identity', '\\t', 'Hier', '\\t\\t', 'Laplace')  \n",
    "for dom in [2**i for i in [2,3,4,5,6,7,8]]:\n",
    "  W_ = cdf_workload(dom)\n",
    "  A_i = identity_strategy(dom)\n",
    "  A_h = hier_strategy(dom)\n",
    "  print(f'{dom:3}', \n",
    "        f'{total_error(W_, A_i, 1.0):8.3f}', \n",
    "        '\\t', \n",
    "        f'{total_error(W_, A_h, 1.0):8.3f}',\n",
    "        '\\t', \n",
    "        f'{laplace_total_error(W_, 1.0):8.3f}'\n",
    "       )  "
   ]
  },
  {
   "cell_type": "markdown",
   "metadata": {},
   "source": [
    "These results show that Identity and Hierarchical strategies both perform better than just Laplace across all domains, and Identity is better for smaller ranges while Hierarchical starts to perform better when the domain exceeds 64. Knowing this information, lets use apply the matrix mechanism with the Identity strategy to a small domain example."
   ]
  },
  {
   "cell_type": "markdown",
   "metadata": {},
   "source": [
    "#### Matrix Mechanism with the Identity Matrix\n",
    "<img style=\"float: left;\" src=\"out/hdmm_workload.PNG\">"
   ]
  },
  {
   "cell_type": "markdown",
   "metadata": {},
   "source": [
    "Given a workload of linear queries (W), the matrix mechanism uses an alternative set of queries, the strategy (A), which are answered privately by a standard mechanism. Answers to the workload queries are then derived from the strategy queries. We use W and A to denote the query workload\n",
    "and query strategy as well as their matrix representation."
   ]
  },
  {
   "cell_type": "code",
   "execution_count": 11,
   "metadata": {},
   "outputs": [
    {
     "data": {
      "text/plain": [
       "array([  6.05384998,  17.10769995,  20.16154993,  37.21539991])"
      ]
     },
     "execution_count": 11,
     "metadata": {},
     "output_type": "execute_result"
    }
   ],
   "source": [
    "def matrix_mechanism(x, W, A, epsilon=1.0):\n",
    "    # measure strategy queries in A using laplace mechanism to get y vector\n",
    "    # y = noisy answers to the queries in A\n",
    "    y = laplace_mechanism(A, x, epsilon)\n",
    "    # reconstruct from y to get x_hat\n",
    "    # x_hat = computed estimate of x that minimizes squared error = pseudo-inverse(A)*y\n",
    "    Aplus = np.linalg.pinv(A)\n",
    "    x_hat = y @ Aplus\n",
    "    # return noisy workload answers: W * x_hat\n",
    "    return W @ x_hat\n",
    "\n",
    "x = np.array([5,10,2,16])\n",
    "W = cdf_workload(4)\n",
    "A = identity_strategy(4)\n",
    "matrix_mechanism(x, W, A)"
   ]
  }
 ],
 "metadata": {
  "kernelspec": {
   "display_name": "Python 3",
   "language": "python",
   "name": "python3"
  },
  "language_info": {
   "codemirror_mode": {
    "name": "ipython",
    "version": 3
   },
   "file_extension": ".py",
   "mimetype": "text/x-python",
   "name": "python",
   "nbconvert_exporter": "python",
   "pygments_lexer": "ipython3",
   "version": "3.6.3"
  }
 },
 "nbformat": 4,
 "nbformat_minor": 2
}
