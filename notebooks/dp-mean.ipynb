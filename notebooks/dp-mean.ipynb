{
 "cells": [
  {
   "cell_type": "markdown",
   "metadata": {},
   "source": [
    "### Solving for a differentially private mean age of a population"
   ]
  },
  {
   "cell_type": "code",
   "execution_count": 1,
   "metadata": {},
   "outputs": [],
   "source": [
    "import matplotlib.pyplot as plt\n",
    "import pandas as pd\n",
    "import numpy as np"
   ]
  },
  {
   "cell_type": "code",
   "execution_count": 2,
   "metadata": {},
   "outputs": [],
   "source": [
    "pa = pd.read_csv(\"psam_p42.csv\")"
   ]
  },
  {
   "cell_type": "code",
   "execution_count": 3,
   "metadata": {},
   "outputs": [],
   "source": [
    "def laplace_mech(mu, epsilon, sensitivity=1.0):\n",
    "    \"\"\"Implementation of the Laplace Mechanism that adds Laplacian-distributed noise to a function.\n",
    "  　\n",
    "    Args:\n",
    "      mu (float or numpy array): the true answer\n",
    "      epsilon(int): the privacy budget\n",
    "      sensitivity (float): the global sensitivity of the query\n",
    "    \"\"\"\n",
    "    eps = epsilon/float(sensitivity)\n",
    "    scale = 1/eps\n",
    "    np_shape = np.shape(mu)\n",
    "    shape = None if np_shape == () else np_shape\n",
    "    z = np.random.laplace(0.0, scale=scale, size=shape)\n",
    "    return mu + z"
   ]
  },
  {
   "cell_type": "code",
   "execution_count": 4,
   "metadata": {},
   "outputs": [],
   "source": [
    "def mse(true_answer, function_name, *params):\n",
    "  \"\"\"true_answer is either a scalar or numpy array\"\"\"\n",
    "  niterations = 100_000\n",
    "  return sum(np.sum((true_answer - function_name(*params))**2) for x in range(niterations)) / float(niterations)"
   ]
  },
  {
   "cell_type": "code",
   "execution_count": 5,
   "metadata": {},
   "outputs": [],
   "source": [
    "def dp_mean(eps_n, eps_d, top, bot, top_sen=100.0, bot_sen=1.0):\n",
    "  noisy_top = laplace_mech(top, eps_n, top_sen)\n",
    "  noisy_bot = laplace_mech(bot, eps_d, bot_sen)\n",
    "  return noisy_top / noisy_bot"
   ]
  },
  {
   "cell_type": "code",
   "execution_count": 6,
   "metadata": {},
   "outputs": [
    {
     "name": "stdout",
     "output_type": "stream",
     "text": [
      "a noisy mean is  33.9519944124\n",
      "mse is  4.98546189158\n"
     ]
    }
   ],
   "source": [
    "\"\"\"\n",
    "Solving for a differentially private mean age of a population.\n",
    "1. get an estimate of the total age (by adding Laplace noiset)\n",
    "2. get an estimate of the total population (by adding Laplace noise)\n",
    "3. divide the two estimates\n",
    "\n",
    "Take our total privay budget eps and split it into two pieces: \n",
    "one for estimating the numerator (eps_n)\n",
    "another for estimating the denominator (eps_d)\n",
    "so that eps = eps_n + eps_d\n",
    "\n",
    "The choice of eps_n and eps_d clearly affects accuracy. Plug in \n",
    "different values for eps_n and eps_d to see how low you can make \n",
    "the estimated mse. \n",
    "\"\"\"\n",
    "asn_pa = pa.query('RACASN==1 and PUMA==1000')\n",
    "total_age = asn_pa.AGEP.sum()\n",
    "total_population = float(asn_pa.AGEP.size)\n",
    "age_sensitivity = asn_pa.AGEP.max()/2\n",
    "population_sensitivity = 1.0\n",
    "\n",
    "eps_n = 0.5 \n",
    "eps_d = 0.5\n",
    "assert eps_n + eps_d <= 1.0000000001, \"eps_n + eps_d must be at most 1\"\n",
    "\n",
    "noisy_mean = dp_mean(eps_n, eps_d, total_age, total_population, age_sensitivity, population_sensitivity)\n",
    "\n",
    "error = mse(total_age/total_population, dp_mean, eps_n, eps_d, total_age, total_population, age_sensitivity, population_sensitivity)\n",
    "print(\"a noisy mean is \", noisy_mean)\n",
    "print(\"mse is \", error)"
   ]
  },
  {
   "cell_type": "code",
   "execution_count": 7,
   "metadata": {},
   "outputs": [],
   "source": [
    "def avg_l1_mean(true_mean, eps, n=1000):\n",
    "    total = 0\n",
    "    for i in range(n):\n",
    "        noisy_mean = dp_mean(eps/2, eps/2, total_age, total_population, age_sensitivity, population_sensitivity)\n",
    "        accuracy = 1 - (np.linalg.norm([noisy_mean-true_mean], 1)/(2*1))\n",
    "        total += accuracy\n",
    "    return total/n"
   ]
  },
  {
   "cell_type": "code",
   "execution_count": 8,
   "metadata": {},
   "outputs": [
    {
     "data": {
      "image/png": "[encoded data removed]",
      "text/plain": [
       "<matplotlib.figure.Figure at 0x7fbe276eaa58>"
      ]
     },
     "metadata": {
      "needs_background": "light"
     },
     "output_type": "display_data"
    }
   ],
   "source": [
    "accuracy_df = pd.DataFrame()\n",
    "eps_range = (np.arange(1.0,9.0,.5))\n",
    "accuracy_df['episolon'] = eps_range\n",
    "accuracy_df['accuracy'] = [avg_l1_mean(total_age/total_population, x) for x in eps_range]\n",
    "accuracy_df.plot.scatter('episolon', 'accuracy')\n",
    "plt.show()"
   ]
  }
 ],
 "metadata": {
  "kernelspec": {
   "display_name": "Python 3",
   "language": "python",
   "name": "python3"
  },
  "language_info": {
   "codemirror_mode": {
    "name": "ipython",
    "version": 3
   },
   "file_extension": ".py",
   "mimetype": "text/x-python",
   "name": "python",
   "nbconvert_exporter": "python",
   "pygments_lexer": "ipython3",
   "version": "3.6.8"
  }
 },
 "nbformat": 4,
 "nbformat_minor": 2
}
