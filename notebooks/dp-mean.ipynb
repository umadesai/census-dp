{
 "cells": [
  {
   "cell_type": "markdown",
   "metadata": {},
   "source": [
    "### Generating a differentially private mean age of a population"
   ]
  },
  {
   "cell_type": "markdown",
   "metadata": {},
   "source": [
    "To generate a differentially private mean age of a population, we first:\n",
    "1. get an estimate of the total age (by adding Laplace noise)\n",
    "2. get an estimate of the total population (by adding Laplace noise)\n",
    "3. divide the two estimates\n",
    "\n",
    "We can do this with the `dp_mean()` function below, which also calls `laplace_mech()`."
   ]
  },
  {
   "cell_type": "code",
   "execution_count": 1,
   "metadata": {},
   "outputs": [],
   "source": [
    "def laplace_mech(mu, epsilon, sensitivity=1.0):\n",
    "    \"\"\"Implementation of the Laplace Mechanism that adds Laplacian-distributed noise to a function.\n",
    "  　\n",
    "    Args:\n",
    "      mu (float or numpy array): the true answer\n",
    "      epsilon(int): the privacy budget\n",
    "      sensitivity (float): the global sensitivity of the query\n",
    "    \"\"\"\n",
    "    eps = epsilon/float(sensitivity)\n",
    "    scale = 1/eps\n",
    "    np_shape = np.shape(mu)\n",
    "    shape = None if np_shape == () else np_shape\n",
    "    z = np.random.laplace(0.0, scale=scale, size=shape)\n",
    "    return mu + z\n",
    "\n",
    "def dp_mean(eps_n, eps_d, top, bot, top_sen=100.0, bot_sen=1.0):\n",
    "  noisy_top = laplace_mech(top, eps_n, top_sen)\n",
    "  noisy_bot = laplace_mech(bot, eps_d, bot_sen)\n",
    "  return noisy_top / noisy_bot\n",
    "\n",
    "def mse(true_answer, function_name, *params):\n",
    "  \"\"\"true_answer is either a scalar or numpy array\"\"\"\n",
    "  niterations = 100_000\n",
    "  return sum(np.sum((true_answer - function_name(*params))**2) for x in range(niterations)) / float(niterations)"
   ]
  },
  {
   "cell_type": "markdown",
   "metadata": {},
   "source": [
    "Let's start by importing the necessary libraries and loading the PUMS data."
   ]
  },
  {
   "cell_type": "code",
   "execution_count": 2,
   "metadata": {},
   "outputs": [],
   "source": [
    "import matplotlib.pyplot as plt\n",
    "import pandas as pd\n",
    "import numpy as np\n",
    "\n",
    "pa = pd.read_csv(\"psam_p42.csv\")"
   ]
  },
  {
   "cell_type": "markdown",
   "metadata": {},
   "source": [
    "Next, let's query the population we want to calculate the mean age of."
   ]
  },
  {
   "cell_type": "code",
   "execution_count": 3,
   "metadata": {},
   "outputs": [],
   "source": [
    "asn_pa = pa.query('RACASN==1 and PUMA==1000')"
   ]
  },
  {
   "cell_type": "markdown",
   "metadata": {},
   "source": [
    "Now, let's calculate the values we need for `dp_mean()`. These inclue `total_age`, `total_population`, `age_sensitivity`, and `population_sensitivity`. \n",
    "\n",
    "The `age_sensitivity` is the maximum amount that the total age could change by the addition or removal of one record, which is the maximum allowable age, divided by two. Ages in the 2020 Census will be topcoded at 114."
   ]
  },
  {
   "cell_type": "code",
   "execution_count": 4,
   "metadata": {},
   "outputs": [],
   "source": [
    "total_age = asn_pa.AGEP.sum()\n",
    "total_population = float(asn_pa.AGEP.size)\n",
    "age_sensitivity = 114/2\n",
    "population_sensitivity = 1.0"
   ]
  },
  {
   "cell_type": "markdown",
   "metadata": {},
   "source": [
    "We also need to consider our privacy budget, `eps`. We can take `eps` and split it into two pieces: one for estimating the numerator (`eps_n`) and another for estimating the denominator (`eps_d`), so that `eps = eps_n + eps_d`.\n",
    "\n",
    "The choice of `eps_n` and `eps_d` clearly affects accuracy. Plug in \n",
    "different values for `eps_n` and `eps_d` to see how low you can make \n",
    "the estimated mse. "
   ]
  },
  {
   "cell_type": "code",
   "execution_count": 5,
   "metadata": {},
   "outputs": [],
   "source": [
    "eps_n = 0.5 \n",
    "eps_d = 0.5\n",
    "assert eps_n + eps_d <= 1.0000000001, \"eps_n + eps_d must be at most 1\""
   ]
  },
  {
   "cell_type": "markdown",
   "metadata": {},
   "source": [
    "We can test these values and their accuracy with the `dp_mean()` and `mse()` functions, like below."
   ]
  },
  {
   "cell_type": "code",
   "execution_count": 6,
   "metadata": {},
   "outputs": [
    {
     "name": "stdout",
     "output_type": "stream",
     "text": [
      "a noisy mean is  36.9532017915\n",
      "mse is  24.0253638917\n"
     ]
    }
   ],
   "source": [
    "noisy_mean = dp_mean(eps_n, eps_d, total_age, total_population, age_sensitivity, population_sensitivity)\n",
    "error = mse(total_age/total_population, dp_mean, eps_n, eps_d, total_age, total_population, age_sensitivity, population_sensitivity)\n",
    "print(\"a noisy mean is \", noisy_mean)\n",
    "print(\"mse is \", error)"
   ]
  },
  {
   "cell_type": "markdown",
   "metadata": {},
   "source": [
    "We want to be able to calculate the `noisy_mean` for different values of epsilon and calculate the average accuracy of the `noisy_mean` for each of these epsilons, so that we can compare the accuracy-privacy trade off. The function below does this using L1 norm as the accuracy measure."
   ]
  },
  {
   "cell_type": "code",
   "execution_count": 7,
   "metadata": {},
   "outputs": [],
   "source": [
    "def avg_l1_mean(true_mean, eps, n=1000):\n",
    "    total = 0\n",
    "    for i in range(n):\n",
    "        noisy_mean = dp_mean(eps/2, eps/2, total_age, total_population, age_sensitivity, population_sensitivity)\n",
    "        accuracy = 1 - (np.linalg.norm([noisy_mean-true_mean], 1)/(2*1))\n",
    "        total += accuracy\n",
    "    return total/n"
   ]
  },
  {
   "cell_type": "markdown",
   "metadata": {},
   "source": [
    "Let's use `avg_l1_mean()` to calculate the average accuracy of the noisy mean over a range of epsilon values and visualize the output with an ROC curve. "
   ]
  },
  {
   "cell_type": "code",
   "execution_count": 9,
   "metadata": {},
   "outputs": [
    {
     "data": {
      "image/png": "[encoded data removed]",
      "text/plain": [
       "<matplotlib.figure.Figure at 0x7f6fc07a6828>"
      ]
     },
     "metadata": {
      "needs_background": "light"
     },
     "output_type": "display_data"
    }
   ],
   "source": [
    "accuracy_df = pd.DataFrame()\n",
    "eps_range = (np.arange(1.0,9.0,.1))\n",
    "accuracy_df['epsilon'] = eps_range\n",
    "accuracy_df['accuracy'] = [avg_l1_mean(total_age/total_population, x) for x in eps_range]\n",
    "accuracy_df.plot.scatter('epsilon', 'accuracy')\n",
    "plt.show()"
   ]
  }
 ],
 "metadata": {
  "kernelspec": {
   "display_name": "Python 3",
   "language": "python",
   "name": "python3"
  },
  "language_info": {
   "codemirror_mode": {
    "name": "ipython",
    "version": 3
   },
   "file_extension": ".py",
   "mimetype": "text/x-python",
   "name": "python",
   "nbconvert_exporter": "python",
   "pygments_lexer": "ipython3",
   "version": "3.6.8"
  }
 },
 "nbformat": 4,
 "nbformat_minor": 2
}
